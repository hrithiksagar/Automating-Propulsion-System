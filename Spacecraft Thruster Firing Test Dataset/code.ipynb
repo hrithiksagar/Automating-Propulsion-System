# This Python 3 environment comes with many helpful analytics libraries installed
# It is defined by the kaggle/python Docker image: https://github.com/kaggle/docker-python
# For example, here's several helpful packages to load

import numpy as np # linear algebra
import pandas as pd # data processing, CSV file I/O (e.g. pd.read_csv)
import matplotlib.pyplot as plt

# Input data files are available in the read-only "../input/" directory
# For example, running this (by clicking run or pressing Shift+Enter) will list all files under the input directory

#import os
#for dirname, _, filenames in os.walk('/kaggle/input'):
#    for filename in filenames:
#        print(os.path.join(dirname, filename))

# You can write up to 20GB to the current directory (/kaggle/working/) that gets preserved as output when you create a version using "Save & Run All" 
# You can also write temporary files to /kaggle/temp/, but they won't be saved outside of the current session

def load_and_plot_example(filename="SN01_24_37.csv"):
    df = pd.read_csv("/kaggle/input/spacecraft-thruster-firing-test-dataset/"+filename)
    df.index = df["Unnamed: 0"]
    df.drop("Unnamed: 0", axis=1, inplace=True)
    df.index.name="date"
    df["thrust"][:"2021-03-05 05:32:00.000"].plot(figsize=(20,4), c="r")
    df["ton"][:"2021-03-05 05:32:00.000"].plot(figsize=(20,4), c="k")
    plt.legend()
    plt.show() 
    
    (df["mfr"][:"2021-03-05 05:32:00.000"]/1000).plot(figsize=(20,4), c="g")
    plt.legend()
    plt.show()
    
    return df

df = load_and_plot_example()

df.head()
